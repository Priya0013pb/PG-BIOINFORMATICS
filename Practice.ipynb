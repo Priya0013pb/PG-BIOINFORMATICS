{
 "cells": [
  {
   "cell_type": "markdown",
   "id": "699acf19-c8a2-4f63-aca4-8e17cf46d046",
   "metadata": {},
   "source": [
    "# Types of Object"
   ]
  },
  {
   "cell_type": "code",
   "execution_count": 38,
   "id": "c132ccd9-7440-427a-abef-9b138783da9a",
   "metadata": {},
   "outputs": [
    {
     "name": "stdout",
     "output_type": "stream",
     "text": [
      "2\n"
     ]
    },
    {
     "data": {
      "text/plain": [
       "int"
      ]
     },
     "execution_count": 38,
     "metadata": {},
     "output_type": "execute_result"
    }
   ],
   "source": [
    "a=2\n",
    "print(a)\n",
    "type(a)"
   ]
  },
  {
   "cell_type": "code",
   "execution_count": 39,
   "id": "b1233faf-ba9e-49c0-b88f-266ff969395a",
   "metadata": {},
   "outputs": [
    {
     "name": "stdout",
     "output_type": "stream",
     "text": [
      "4.0\n"
     ]
    },
    {
     "data": {
      "text/plain": [
       "float"
      ]
     },
     "execution_count": 39,
     "metadata": {},
     "output_type": "execute_result"
    }
   ],
   "source": [
    "b=4.0\n",
    "print(b)\n",
    "type(b)"
   ]
  },
  {
   "cell_type": "code",
   "execution_count": 51,
   "id": "9da9da20-54bc-4cbd-99ad-49fa9e654149",
   "metadata": {},
   "outputs": [
    {
     "name": "stdout",
     "output_type": "stream",
     "text": [
      "Hello, World!\n"
     ]
    },
    {
     "data": {
      "text/plain": [
       "str"
      ]
     },
     "execution_count": 51,
     "metadata": {},
     "output_type": "execute_result"
    }
   ],
   "source": [
    "c=(\"Hello, World!\")\n",
    "print(c)\n",
    "type(c)"
   ]
  },
  {
   "cell_type": "code",
   "execution_count": 41,
   "id": "ebbb8d6f-5bf2-4e05-9cee-0170cb70067f",
   "metadata": {},
   "outputs": [
    {
     "data": {
      "text/plain": [
       "bool"
      ]
     },
     "execution_count": 41,
     "metadata": {},
     "output_type": "execute_result"
    }
   ],
   "source": [
    "d=True\n",
    "type(d)"
   ]
  },
  {
   "cell_type": "markdown",
   "id": "cbbf18eb-81b1-4335-bece-32a45e976f6b",
   "metadata": {},
   "source": [
    "# Conversion of one object type to another"
   ]
  },
  {
   "cell_type": "code",
   "execution_count": 44,
   "id": "64c057d3-d119-4646-b805-9bec2b10dd98",
   "metadata": {},
   "outputs": [
    {
     "data": {
      "text/plain": [
       "2.0"
      ]
     },
     "execution_count": 44,
     "metadata": {},
     "output_type": "execute_result"
    }
   ],
   "source": [
    "#int to float\n",
    "float(a)"
   ]
  },
  {
   "cell_type": "code",
   "execution_count": 45,
   "id": "100baa9d-6602-4c52-9b06-da0b61d50759",
   "metadata": {},
   "outputs": [
    {
     "data": {
      "text/plain": [
       "'2'"
      ]
     },
     "execution_count": 45,
     "metadata": {},
     "output_type": "execute_result"
    }
   ],
   "source": [
    "#int to str\n",
    "str(a)"
   ]
  },
  {
   "cell_type": "code",
   "execution_count": 46,
   "id": "7deba479-eebf-4d1b-9221-4db79ec2a9a3",
   "metadata": {},
   "outputs": [
    {
     "data": {
      "text/plain": [
       "4"
      ]
     },
     "execution_count": 46,
     "metadata": {},
     "output_type": "execute_result"
    }
   ],
   "source": [
    "#float to int\n",
    "int(b)"
   ]
  },
  {
   "cell_type": "code",
   "execution_count": 47,
   "id": "16190e66-c215-43c4-856c-a8bffdf62a17",
   "metadata": {},
   "outputs": [
    {
     "data": {
      "text/plain": [
       "'4.0'"
      ]
     },
     "execution_count": 47,
     "metadata": {},
     "output_type": "execute_result"
    }
   ],
   "source": [
    "#float to str\n",
    "str(b)"
   ]
  },
  {
   "cell_type": "markdown",
   "id": "7fbab078-b98c-481e-8446-8827a58c078d",
   "metadata": {},
   "source": [
    "# Indentation"
   ]
  },
  {
   "cell_type": "code",
   "execution_count": 48,
   "id": "d35d9375-c793-41f2-8edb-09027540a0ce",
   "metadata": {},
   "outputs": [
    {
     "name": "stdout",
     "output_type": "stream",
     "text": [
      "a is less than 10\n"
     ]
    }
   ],
   "source": [
    "if a>10:\n",
    "    print(\"a is greater than 10\")\n",
    "else:\n",
    "    print(\"a is less than 10\")"
   ]
  },
  {
   "cell_type": "markdown",
   "id": "71edeffb-3833-4f4f-bbf0-12c92ff0c9b8",
   "metadata": {},
   "source": [
    "# strings"
   ]
  },
  {
   "cell_type": "code",
   "execution_count": 49,
   "id": "660276da-8970-4cda-ae68-2c88b817d593",
   "metadata": {},
   "outputs": [
    {
     "name": "stdout",
     "output_type": "stream",
     "text": [
      "Hello,Amy!\n"
     ]
    }
   ],
   "source": [
    "name= \"Amy\"\n",
    "message= (\"Hello,\" + name+\"!\")\n",
    "print(message)"
   ]
  },
  {
   "cell_type": "markdown",
   "id": "d309733a-77bd-4a0f-8bef-c3f06b0ac483",
   "metadata": {},
   "source": [
    "# Arithmetic Operations"
   ]
  },
  {
   "cell_type": "code",
   "execution_count": 50,
   "id": "6e0d087d-6dd6-43c7-85cb-1e7143fbcb95",
   "metadata": {},
   "outputs": [
    {
     "name": "stdout",
     "output_type": "stream",
     "text": [
      "6.0\n",
      "-2.0\n",
      "8.0\n",
      "0.5\n",
      "16.0\n",
      "0.0\n",
      "4\n",
      "8\n",
      "1.0\n",
      "6.0\n",
      "2.0\n"
     ]
    }
   ],
   "source": [
    "print(a+b)\n",
    "print(a-b)\n",
    "print(a*b)\n",
    "print(a/b)\n",
    "print(a**b)\n",
    "print(a//b)\n",
    "print(a**2)\n",
    "print(a**3)\n",
    "print(a*(1/2))\n",
    "print(a+b*a-(b/a)-a)\n",
    "print(a%b)"
   ]
  },
  {
   "cell_type": "code",
   "execution_count": 35,
   "id": "28148d58-4940-48cb-b9d8-a062d648a976",
   "metadata": {},
   "outputs": [
    {
     "name": "stdout",
     "output_type": "stream",
     "text": [
      "Hello,world!\n"
     ]
    }
   ],
   "source": [
    "print(\"Hello,world!\")"
   ]
  },
  {
   "cell_type": "code",
   "execution_count": 16,
   "id": "3d13e540-e797-4ca5-bb16-f40ed97c24a2",
   "metadata": {},
   "outputs": [
    {
     "name": "stdin",
     "output_type": "stream",
     "text": [
      "what is your name Amy\n"
     ]
    }
   ],
   "source": [
    "name= input(\"what is your name\")"
   ]
  },
  {
   "cell_type": "code",
   "execution_count": 20,
   "id": "b67250fd-fbe8-45c0-a238-58175cd6f423",
   "metadata": {},
   "outputs": [
    {
     "name": "stdout",
     "output_type": "stream",
     "text": [
      "Hello,Amy\n"
     ]
    }
   ],
   "source": [
    "print(\"Hello,\" +  name)"
   ]
  },
  {
   "cell_type": "code",
   "execution_count": 27,
   "id": "03e19d79-0cbb-4629-8954-ae1a968dbcaa",
   "metadata": {},
   "outputs": [
    {
     "name": "stdin",
     "output_type": "stream",
     "text": [
      " 2000\n"
     ]
    },
    {
     "data": {
      "text/plain": [
       "2000"
      ]
     },
     "execution_count": 27,
     "metadata": {},
     "output_type": "execute_result"
    }
   ],
   "source": [
    "birth_year= input()\n",
    "int(birth_year)"
   ]
  },
  {
   "cell_type": "code",
   "execution_count": 31,
   "id": "58cf073b-7e4b-48ab-b0ba-945bb65417cd",
   "metadata": {},
   "outputs": [
    {
     "name": "stdout",
     "output_type": "stream",
     "text": [
      "24\n"
     ]
    }
   ],
   "source": [
    "age= 2024- int(birth_year)\n",
    "print(age)"
   ]
  },
  {
   "cell_type": "code",
   "execution_count": 33,
   "id": "a04a29e3-57a9-49f5-954f-3945ff3298ac",
   "metadata": {},
   "outputs": [
    {
     "name": "stdin",
     "output_type": "stream",
     "text": [
      " 12\n",
      " 13\n"
     ]
    }
   ],
   "source": [
    "first= input()\n",
    "second=input()\n",
    "sum= int(first)+ int(second)"
   ]
  },
  {
   "cell_type": "code",
   "execution_count": 35,
   "id": "019466ea-a36e-4be9-8823-71f1587a699f",
   "metadata": {},
   "outputs": [
    {
     "name": "stdout",
     "output_type": "stream",
     "text": [
      "Sum:25\n"
     ]
    }
   ],
   "source": [
    "print(\"Sum:\" + str(sum))"
   ]
  },
  {
   "cell_type": "code",
   "execution_count": 38,
   "id": "af4d6a66-c076-43f0-be3e-840a77b168f2",
   "metadata": {},
   "outputs": [
    {
     "name": "stdout",
     "output_type": "stream",
     "text": [
      "PYTHON FOR BEGINNERS\n",
      "python for beginners\n"
     ]
    }
   ],
   "source": [
    "course= \"Python for Beginners\"\n",
    "print(course.upper())\n",
    "print(course.lower())"
   ]
  },
  {
   "cell_type": "code",
   "execution_count": 37,
   "id": "d396f50e-64d5-4b15-86e4-e768779989d9",
   "metadata": {},
   "outputs": [
    {
     "name": "stdout",
     "output_type": "stream",
     "text": [
      "Python for Beginners\n"
     ]
    }
   ],
   "source": [
    "print(course)"
   ]
  },
  {
   "cell_type": "code",
   "execution_count": 46,
   "id": "a17ca787-37ea-4883-9dc1-329923180561",
   "metadata": {},
   "outputs": [
    {
     "name": "stdout",
     "output_type": "stream",
     "text": [
      "1\n",
      "-1\n",
      "5\n"
     ]
    }
   ],
   "source": [
    " course= \"Python for Beginners\"\n",
    "print(course.find('y'))\n",
    "print(course.find('Y'))\n",
    "print(course.find('n'))"
   ]
  },
  {
   "cell_type": "code",
   "execution_count": 47,
   "id": "347435af-d13d-458f-82c9-00dc07ae6d01",
   "metadata": {},
   "outputs": [
    {
     "name": "stdout",
     "output_type": "stream",
     "text": [
      "Python with Beginners\n"
     ]
    }
   ],
   "source": [
    "print(course.replace('for', 'with'))"
   ]
  },
  {
   "cell_type": "code",
   "execution_count": 48,
   "id": "d99287e6-cddd-4697-a92f-cc657c7829eb",
   "metadata": {},
   "outputs": [
    {
     "name": "stdout",
     "output_type": "stream",
     "text": [
      "True\n"
     ]
    }
   ],
   "source": [
    "print('Python' in course)"
   ]
  },
  {
   "cell_type": "code",
   "execution_count": 49,
   "id": "4effd40f-e867-4c0f-b07c-3e072d842c04",
   "metadata": {},
   "outputs": [
    {
     "name": "stdout",
     "output_type": "stream",
     "text": [
      "False\n"
     ]
    }
   ],
   "source": [
    "print ('Last' in course)"
   ]
  },
  {
   "cell_type": "code",
   "execution_count": 13,
   "id": "7211725e-8a6c-4629-90cd-eb15771d1455",
   "metadata": {},
   "outputs": [
    {
     "name": "stdout",
     "output_type": "stream",
     "text": [
      "13\n",
      "3.3333333333333335\n",
      "3\n",
      "1\n",
      "1000\n",
      "5.0\n"
     ]
    }
   ],
   "source": [
    "print(10+3)\n",
    "print(10/3)\n",
    "print(10//3)\n",
    "print(10%3)\n",
    "print(10**3)       #find cube\n",
    "print(25**(1/2))   #find square root"
   ]
  },
  {
   "cell_type": "code",
   "execution_count": 58,
   "id": "cea9aedc-77be-42c5-9d8d-bc8c52516bf4",
   "metadata": {},
   "outputs": [
    {
     "name": "stdout",
     "output_type": "stream",
     "text": [
      "13\n"
     ]
    }
   ],
   "source": [
    "x=10\n",
    "x= x + 3\n",
    "print(x)"
   ]
  },
  {
   "cell_type": "code",
   "execution_count": 59,
   "id": "2525218a-f7ff-42f3-80c8-f0d15a4cc8f8",
   "metadata": {},
   "outputs": [
    {
     "name": "stdout",
     "output_type": "stream",
     "text": [
      "16\n"
     ]
    }
   ],
   "source": [
    "x+= 3\n",
    "print(x)"
   ]
  },
  {
   "cell_type": "code",
   "execution_count": 60,
   "id": "cf4ef2b5-8e9f-4435-88aa-1265c5becd78",
   "metadata": {},
   "outputs": [
    {
     "name": "stdout",
     "output_type": "stream",
     "text": [
      "13\n"
     ]
    }
   ],
   "source": [
    "x-= 3\n",
    "print(x)"
   ]
  },
  {
   "cell_type": "markdown",
   "id": "e70d8698-2ada-4c2a-b9b1-9c758768bcdc",
   "metadata": {},
   "source": [
    "# Operator Precedence"
   ]
  },
  {
   "cell_type": "code",
   "execution_count": 61,
   "id": "5186e6bc-a0a1-4eaa-b451-7878333f8904",
   "metadata": {},
   "outputs": [
    {
     "name": "stdout",
     "output_type": "stream",
     "text": [
      "13\n"
     ]
    }
   ],
   "source": [
    "y= (10 + 3)* 2\n",
    "print(x)\n"
   ]
  },
  {
   "cell_type": "markdown",
   "id": "7d02a205-b369-4065-998c-aacd97bbfa39",
   "metadata": {},
   "source": [
    "# Comparision Operators"
   ]
  },
  {
   "cell_type": "code",
   "execution_count": 62,
   "id": "b46b56a7-0884-49d7-b8bc-ff82f04d349b",
   "metadata": {},
   "outputs": [
    {
     "name": "stdout",
     "output_type": "stream",
     "text": [
      "True\n"
     ]
    }
   ],
   "source": [
    "x= 3>2\n",
    "print(x)"
   ]
  },
  {
   "cell_type": "code",
   "execution_count": 65,
   "id": "68181bb6-8491-4ca0-bf03-4a870d00def7",
   "metadata": {},
   "outputs": [
    {
     "name": "stdout",
     "output_type": "stream",
     "text": [
      "True\n"
     ]
    }
   ],
   "source": [
    "x=3 >=2 \n",
    "print(x)"
   ]
  },
  {
   "cell_type": "code",
   "execution_count": 67,
   "id": "96abe38e-33a5-4f03-96f7-6586d68b15e9",
   "metadata": {},
   "outputs": [
    {
     "name": "stdout",
     "output_type": "stream",
     "text": [
      "False\n"
     ]
    }
   ],
   "source": [
    "x=3 <2 \n",
    "print(x)"
   ]
  },
  {
   "cell_type": "code",
   "execution_count": 66,
   "id": "1c2f6628-72a1-43f5-8c31-f9e2f0180071",
   "metadata": {},
   "outputs": [
    {
     "name": "stdout",
     "output_type": "stream",
     "text": [
      "False\n"
     ]
    }
   ],
   "source": [
    "x=3 <=2 \n",
    "print(x)"
   ]
  },
  {
   "cell_type": "code",
   "execution_count": 63,
   "id": "5c893bc2-9dd5-4cf0-98a3-e155b2115aa6",
   "metadata": {},
   "outputs": [
    {
     "name": "stdout",
     "output_type": "stream",
     "text": [
      "False\n"
     ]
    }
   ],
   "source": [
    "x=3 ==2 \n",
    "print(x)"
   ]
  },
  {
   "cell_type": "code",
   "execution_count": 64,
   "id": "51b8c136-dc39-4f8f-a0a9-52cc9e12bc15",
   "metadata": {},
   "outputs": [
    {
     "name": "stdout",
     "output_type": "stream",
     "text": [
      "True\n"
     ]
    }
   ],
   "source": [
    "x=3 !=2 \n",
    "print(x)"
   ]
  },
  {
   "cell_type": "markdown",
   "id": "a3981630-4b8d-477c-8f2e-0d5cefb1aef2",
   "metadata": {},
   "source": [
    "# Logical Operators"
   ]
  },
  {
   "cell_type": "code",
   "execution_count": 69,
   "id": "d7139b3c-41f5-4713-a22c-3d8b6e105919",
   "metadata": {},
   "outputs": [
    {
     "name": "stdout",
     "output_type": "stream",
     "text": [
      "True\n"
     ]
    }
   ],
   "source": [
    "price= 20\n",
    "print(price>10 and price <30)"
   ]
  },
  {
   "cell_type": "code",
   "execution_count": 70,
   "id": "a67874dd-3ba0-4cde-9fc7-43854f407f27",
   "metadata": {},
   "outputs": [
    {
     "name": "stdout",
     "output_type": "stream",
     "text": [
      "True\n"
     ]
    }
   ],
   "source": [
    "price= 20\n",
    "print(price>10 or price <30)"
   ]
  },
  {
   "cell_type": "code",
   "execution_count": 71,
   "id": "223a3d7f-b425-49a4-9d09-5bcc01029206",
   "metadata": {},
   "outputs": [
    {
     "name": "stdout",
     "output_type": "stream",
     "text": [
      "False\n"
     ]
    }
   ],
   "source": [
    "price= 20\n",
    "print( not price>10)"
   ]
  },
  {
   "cell_type": "code",
   "execution_count": 8,
   "id": "3feb7ef5-f97c-4777-a895-4328e1dcfa90",
   "metadata": {},
   "outputs": [
    {
     "name": "stdout",
     "output_type": "stream",
     "text": [
      "Enjoy the day!\n"
     ]
    }
   ],
   "source": [
    "temp=30\n",
    "if temp>35:\n",
    "    print(\"It's a hot day\")\n",
    "    print(\"Drink lots of water\")\n",
    "else:\n",
    "    print(\"Enjoy the day!\")"
   ]
  },
  {
   "cell_type": "code",
   "execution_count": 36,
   "id": "fec450f6-790d-453d-935c-abfb7cb11a98",
   "metadata": {},
   "outputs": [
    {
     "name": "stdin",
     "output_type": "stream",
     "text": [
      " 10\n"
     ]
    },
    {
     "name": "stdout",
     "output_type": "stream",
     "text": [
      "6.212999999999999\n"
     ]
    }
   ],
   "source": [
    "km= float(input())    # converting km to miles\n",
    "conv_fac= 0.6213\n",
    "miles= km* conv_fac\n",
    "print(miles)"
   ]
  },
  {
   "cell_type": "code",
   "execution_count": 37,
   "id": "49678e83-15a0-4d76-8a95-9338c8cd468d",
   "metadata": {},
   "outputs": [
    {
     "name": "stdin",
     "output_type": "stream",
     "text": [
      " 20.0\n"
     ]
    },
    {
     "name": "stdout",
     "output_type": "stream",
     "text": [
      "293.0\n"
     ]
    }
   ],
   "source": [
    "celsius=float(input())    #converting celsius to kelvin\n",
    "kelvin= celsius + 273.0\n",
    "print(kelvin)"
   ]
  },
  {
   "cell_type": "code",
   "execution_count": 28,
   "id": "d3d1bcfb-a27c-4f93-85cb-b5e73ce8f8dd",
   "metadata": {},
   "outputs": [
    {
     "name": "stdout",
     "output_type": "stream",
     "text": [
      "99.5\n"
     ]
    }
   ],
   "source": [
    "celsius=37.5           #converting celsius to fahrenheit\n",
    "fahrenheit= (celsius *1.8) +32.0\n",
    "print(fahrenheit)"
   ]
  },
  {
   "cell_type": "code",
   "execution_count": 30,
   "id": "1644a48a-cb75-4e0f-892c-f409840b0e39",
   "metadata": {},
   "outputs": [
    {
     "name": "stdout",
     "output_type": "stream",
     "text": [
      "14.696938456699069\n"
     ]
    }
   ],
   "source": [
    "a=7                 #area of a triangle\n",
    "b=5\n",
    "c=6\n",
    "\n",
    "s=(a+b+c)/2                 \n",
    "area= ((s*(s-a)*(s-b)*(s-c))**(1/2))\n",
    "print(area)"
   ]
  },
  {
   "cell_type": "code",
   "execution_count": 32,
   "id": "c8dcf61d-d5b5-40ae-a3cd-241df6cd1309",
   "metadata": {},
   "outputs": [
    {
     "name": "stdout",
     "output_type": "stream",
     "text": [
      "-1.0 -2.0\n"
     ]
    }
   ],
   "source": [
    "a=1             #solve quadratic equation\n",
    "b=3\n",
    "c=2\n",
    "\n",
    "d=(b**2 -4*a*c)**(1/2)\n",
    "\n",
    "root1 = (-b + d)/(2*a)\n",
    "root2 = (-b - d)/(2*a)\n",
    "print(root1,root2)"
   ]
  },
  {
   "cell_type": "code",
   "execution_count": null,
   "id": "f0ad57a2-c87c-4889-b69a-a5ce648a82d8",
   "metadata": {},
   "outputs": [],
   "source": []
  }
 ],
 "metadata": {
  "kernelspec": {
   "display_name": "Python 3 (ipykernel)",
   "language": "python",
   "name": "python3"
  },
  "language_info": {
   "codemirror_mode": {
    "name": "ipython",
    "version": 3
   },
   "file_extension": ".py",
   "mimetype": "text/x-python",
   "name": "python",
   "nbconvert_exporter": "python",
   "pygments_lexer": "ipython3",
   "version": "3.12.4"
  }
 },
 "nbformat": 4,
 "nbformat_minor": 5
}
